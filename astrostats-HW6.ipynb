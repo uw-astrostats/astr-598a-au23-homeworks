{
 "cells": [
  {
   "cell_type": "code",
   "execution_count": 1,
   "metadata": {},
   "outputs": [],
   "source": [
    "hw_done = False"
   ]
  },
  {
   "cell_type": "markdown",
   "metadata": {},
   "source": [
    "# Homework 7\n",
    "### Astrostatistics, University of Washington\n",
    "\n",
    "In this homework, we will work with the [NASA-Sloan Atlas](http://www.nsatlas.org/). From their website:\n",
    "\n",
    "*The NASA-Sloan Atlas is a catalog of images and parameters of local galaxies, from surveys in the ultraviolet, optical and near-infrared. Our focus in the near term is on the Sloan Digital Sky Survey and the Galaxy Evolution Explorer. [....] Our goal is to create a consistent, unified analysis of galaxies within about 200 megaparsecs (about 600 million lightyears) from these surveys.*\n",
    "\n",
    "`astroML` gives us a convenient way to fetch this database:"
   ]
  },
  {
   "cell_type": "code",
   "execution_count": 2,
   "metadata": {},
   "outputs": [],
   "source": [
    "import numpy as np\n",
    "import matplotlib.pyplot as plt\n",
    "from astroML.datasets import fetch_nasa_atlas\n",
    "from astroML.stats import sigmaG"
   ]
  },
  {
   "cell_type": "code",
   "execution_count": 3,
   "metadata": {},
   "outputs": [],
   "source": [
    "data = fetch_nasa_atlas()"
   ]
  },
  {
   "cell_type": "markdown",
   "metadata": {},
   "source": [
    "We'll focus in on a subset of the measured [features](http://www.nsatlas.org/data) for each galaxy: (this first step is also a type of dimensionality reduction!)"
   ]
  },
  {
   "cell_type": "code",
   "execution_count": 4,
   "metadata": {},
   "outputs": [],
   "source": [
    "columns = ['Z', 'B300', 'B1000', 'SERSIC_N', 'SERSIC_BA', 'VDISP', 'D4000', 'S2FLUX', 'HAFLUX', 'N2FLUX', 'HBFLUX', 'O1FLUX', 'O2FLUX', 'O3FLUX']"
   ]
  },
  {
   "cell_type": "code",
   "execution_count": 5,
   "metadata": {},
   "outputs": [],
   "source": [
    "# convert from 1D array records to 2D array\n",
    "data_array = np.empty((len(data), len(columns)))\n",
    "\n",
    "for i in range(len(data)):\n",
    "    for j in range(len(columns)):\n",
    "        data_array[i,j] = data[columns][i][j]"
   ]
  },
  {
   "cell_type": "code",
   "execution_count": 6,
   "metadata": {},
   "outputs": [],
   "source": [
    "# remove galaxies with missing values -9999\n",
    "mask = (data_array < -9998).any(axis=1)\n",
    "data_array = data_array[~mask]"
   ]
  },
  {
   "cell_type": "markdown",
   "metadata": {},
   "source": [
    "We'll also perform data whitening by dividing each feature value by its standard deviation."
   ]
  },
  {
   "cell_type": "code",
   "execution_count": 7,
   "metadata": {},
   "outputs": [],
   "source": [
    "data_array /= np.std(data_array, axis=0)"
   ]
  },
  {
   "cell_type": "markdown",
   "metadata": {},
   "source": [
    "and now we're left with an array with 14 measured features for 122,027 galaxies."
   ]
  },
  {
   "cell_type": "code",
   "execution_count": 8,
   "metadata": {},
   "outputs": [
    {
     "data": {
      "text/plain": [
       "(122027, 14)"
      ]
     },
     "execution_count": 8,
     "metadata": {},
     "output_type": "execute_result"
    }
   ],
   "source": [
    "data_array.shape"
   ]
  },
  {
   "cell_type": "markdown",
   "metadata": {},
   "source": [
    "## Question 1\n",
    "Perform PCA on `data_array` and make the scree plot showing how much variance each principal component explains (linear scales may be better than log scales in this case). If we want to explain 70% of the variance, how many components should we keep?"
   ]
  },
  {
   "cell_type": "markdown",
   "metadata": {},
   "source": [
    "## Question 2\n",
    "Use the provided function `plot_PCA_component()` to visualize the principal components you want to keep, given your answer to Part 1."
   ]
  },
  {
   "cell_type": "code",
   "execution_count": 12,
   "metadata": {},
   "outputs": [],
   "source": [
    "# takes in a 1-D array describing a principal component and makes a labeled bar chart\n",
    "def plot_PCA_component(component):\n",
    "    plt.barh(range(len(columns)), component)\n",
    "    plt.xlabel('feature weight')\n",
    "    plt.yticks(range(len(columns)), columns)\n",
    "    plt.show()"
   ]
  },
  {
   "cell_type": "markdown",
   "metadata": {},
   "source": [
    "## Question 3\n",
    "You can find a short description of each feature on the NASA-Sloan webpage: http://www.nsatlas.org/data\n",
    "\n",
    "What features contribute the most to the first principal component? What do these features have in common? How might we want to pre-process the data to make the first principal component more informative?"
   ]
  },
  {
   "cell_type": "markdown",
   "metadata": {},
   "source": [
    "## Question 4\n",
    "What features are most important to the second principal component? What types of galaxies would have a large positive value or large negative value of the second PCA coefficient?\n",
    "\n",
    "*Hints:*\n",
    "- elliptical galaxies tend to have large Sersic index, spiral galaxies tend to have small Sersic index\n",
    "- massive galaxies tend to have greater VDISP\n",
    "- galaxies with more red stars will have lower D4000, while those with more blue stars will have lower D4000\n",
    "- B300 and B1000 measure recent star formation"
   ]
  },
  {
   "cell_type": "code",
   "execution_count": null,
   "metadata": {},
   "outputs": [],
   "source": []
  }
 ],
 "metadata": {
  "kernelspec": {
   "display_name": "Python 3",
   "language": "python",
   "name": "python3"
  },
  "language_info": {
   "codemirror_mode": {
    "name": "ipython",
    "version": 3
   },
   "file_extension": ".py",
   "mimetype": "text/x-python",
   "name": "python",
   "nbconvert_exporter": "python",
   "pygments_lexer": "ipython3",
   "version": "3.7.6"
  }
 },
 "nbformat": 4,
 "nbformat_minor": 4
}
