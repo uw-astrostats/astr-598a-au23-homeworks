{
 "cells": [
  {
   "cell_type": "code",
   "execution_count": 1,
   "metadata": {},
   "outputs": [],
   "source": [
    "hw_done = False    ## change this to True to mark your homework as done."
   ]
  },
  {
   "cell_type": "markdown",
   "metadata": {},
   "source": [
    "### Astrostatistics, University of Washington\n",
    "# Homework 1\n",
    "\n",
    "## Problem 1\n",
    "\n",
    "1. Write a Python function named `monty_play` that simulates the Monty Hall Problem. Play $N=10000$ games and print the fraction of wins if the player keeps their initial selection vs. if they choose to switch.\n",
    "\n",
    "2. Extend the function to work with any number of doors (not just 3)."
   ]
  },
  {
   "cell_type": "markdown",
   "metadata": {},
   "source": [
    "# Solutions"
   ]
  },
  {
   "cell_type": "markdown",
   "metadata": {},
   "source": [
    "### Some useful definitions and functions"
   ]
  },
  {
   "cell_type": "code",
   "execution_count": 2,
   "metadata": {},
   "outputs": [],
   "source": [
    "import numpy as np\n",
    "import numpy.random as rnd"
   ]
  },
  {
   "cell_type": "markdown",
   "metadata": {},
   "source": [
    "## Problem 1"
   ]
  },
  {
   "cell_type": "code",
   "execution_count": 3,
   "metadata": {},
   "outputs": [],
   "source": [
    "def monty_play(should_switch, ndoor=3):\n",
    "    #\n",
    "    # Plays a round of the Monty Hall problem with three doors.\n",
    "    #\n",
    "    # Randomly choose a door with the car, and the player's initial pick.\n",
    "    # Then eliminate one door, following the rules of the Monty Hall problem.\n",
    "    # Switch the player's pick to the other door if should_switch = True\n",
    "    #\n",
    "    # The function must return True if the player's final pick is the\n",
    "    # door with the car, and False otherwise.\n",
    "    #\n",
    "    \n",
    "    ... write your code here ...\n"
   ]
  },
  {
   "cell_type": "code",
   "execution_count": 4,
   "metadata": {},
   "outputs": [
    {
     "name": "stdout",
     "output_type": "stream",
     "text": [
      "Fraction of wins without switching: 0.3327\n",
      "Fraction of wins with switching:    0.6638\n"
     ]
    }
   ],
   "source": [
    "Ngames = 10000\n",
    "\n",
    "noSwitchWinsFraction = sum(monty_play(should_switch=False) for _ in range(Ngames)) / Ngames\n",
    "switchWinsFraction   = sum(monty_play(should_switch=True)  for _ in range(Ngames)) / Ngames\n",
    "\n",
    "print(f\"Fraction of wins without switching: {noSwitchWinsFraction}\")\n",
    "print(f\"Fraction of wins with switching:    {switchWinsFraction}\")"
   ]
  },
  {
   "cell_type": "code",
   "execution_count": 5,
   "metadata": {},
   "outputs": [
    {
     "name": "stdout",
     "output_type": "stream",
     "text": [
      "Fraction of wins without switching: 0.2009\n",
      "Fraction of wins with switching:    0.7936\n"
     ]
    }
   ],
   "source": [
    "Ngames = 10000\n",
    "\n",
    "noSwitchWinsFraction = sum(monty_play(should_switch=False, ndoor=5) for _ in range(Ngames)) / Ngames\n",
    "switchWinsFraction   = sum(monty_play(should_switch=True, ndoor=5)  for _ in range(Ngames)) / Ngames\n",
    "\n",
    "print(f\"Fraction of wins without switching: {noSwitchWinsFraction}\")\n",
    "print(f\"Fraction of wins with switching:    {switchWinsFraction}\")"
   ]
  }
 ],
 "metadata": {
  "kernelspec": {
   "display_name": "Python 3",
   "language": "python",
   "name": "python3"
  },
  "language_info": {
   "codemirror_mode": {
    "name": "ipython",
    "version": 3
   },
   "file_extension": ".py",
   "mimetype": "text/x-python",
   "name": "python",
   "nbconvert_exporter": "python",
   "pygments_lexer": "ipython3",
   "version": "3.7.6"
  }
 },
 "nbformat": 4,
 "nbformat_minor": 2
}
