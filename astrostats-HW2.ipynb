{
 "cells": [
  {
   "cell_type": "code",
   "execution_count": 16,
   "metadata": {
    "collapsed": true
   },
   "outputs": [],
   "source": [
    "hw_done = False    ## change this to True to mark your homework as done."
   ]
  },
  {
   "cell_type": "markdown",
   "metadata": {},
   "source": [
    "### Astrostatistics, University of Washington\n",
    "# Homework 2\n",
    "\n",
    "\n",
    "## Problem 1\n",
    "\n",
    "The file `data/flux.txt` contains a series of calibrated measurements of the flux of a star (in some arbitrary flux units).\n",
    "\n",
    "Assuming the star is not variable, estimate:\n",
    "1. the true stellar flux and the error of that estimate and\n",
    "1. the precision of my measurement apparatus.\n",
    "\n",
    "## Problem 2\n",
    "\n",
    "Test scores in the astrostatistics class at the University of Washington have historically been normally distributed with $\\mu = 85$ and $\\sigma=7$. Assuming past predicts the future:\n",
    "\n",
    "1. Compute the probability you will score 100 or greater when you take the test.\n",
    "1. Compute the number of your classmates who will score between 84 and 92 (the class has 26 students; assume everyone will take the test).\n",
    "1. If I tell you the probability of failing the test (i.e., scoring below some threshold $T$) is 0.018%, compute the threshold $T$.\n",
    "\n",
    "Note: you should find [the functions of `scipy.stats.norm`](https://docs.scipy.org/doc/scipy/reference/generated/scipy.stats.norm.html) very useful.\n",
    "\n",
    "## Problem 3\n",
    "\n",
    "Generate a sample of 10,000 data values drawn from N($\\mu$=1.0, $\\sigma$=0.2) and\n",
    "draw a histogram, with the bin size determined using the Freedman-Diaconis\n",
    "rule. Show (Poissonian) uncertainty for each histogram value, and overplot the\n",
    "true distribution. Do the same for a Cauchy distribution with the same $\\mu$ and $\\gamma=0.2$. \n",
    "\n",
    "Use a random seed of 42, with the default numpy random number generator (i.e., use `np.random.seed(42)` to set it).\n",
    "\n",
    "\"Poissonian uncertainty\": for each bin in the histogram, plot the error bar whose half-height is the square root of the bin height.\n",
    "\n",
    "## Problem 4\n",
    "Repeat the previous problem, but now concatenate wit the Gaussian sample \n",
    "another sample of 10,000 data values drawn from a Cauchy distribution with\n",
    "$\\mu=2.0$ and $\\gamma=0.5$. Do it twice: once with the bin size determined \n",
    "using the Freedman-Diaconis rule and once using the Scott's rule. Discuss the difference.  "
   ]
  },
  {
   "cell_type": "markdown",
   "metadata": {},
   "source": [
    "# Solutions"
   ]
  },
  {
   "cell_type": "markdown",
   "metadata": {},
   "source": [
    "### Some useful definitions and functions"
   ]
  },
  {
   "cell_type": "code",
   "execution_count": 4,
   "metadata": {
    "collapsed": true
   },
   "outputs": [],
   "source": [
    "%matplotlib inline\n",
    "import numpy as np\n",
    "from matplotlib import pyplot as plt\n",
    "from scipy import optimize\n",
    "from scipy.stats import cauchy, norm, sem\n",
    "import seaborn as sns; sns.set() # set default plot styles\n",
    "from astroML.plotting import setup_text_plots\n",
    "from astroML.stats import sigmaG\n",
    "from astroML.plotting import hist as fancyhist\n",
    "setup_text_plots(fontsize=14, usetex=False)"
   ]
  },
  {
   "cell_type": "markdown",
   "metadata": {},
   "source": [
    "## Problem 1"
   ]
  },
  {
   "cell_type": "markdown",
   "metadata": {},
   "source": [
    "## Problem 2"
   ]
  },
  {
   "cell_type": "markdown",
   "metadata": {},
   "source": [
    "## Problem 3"
   ]
  },
  {
   "cell_type": "markdown",
   "metadata": {},
   "source": [
    "## Problem 4"
   ]
  }
 ],
 "metadata": {
  "kernelspec": {
   "display_name": "Python 3",
   "language": "python",
   "name": "python3"
  },
  "language_info": {
   "codemirror_mode": {
    "name": "ipython",
    "version": 3
   },
   "file_extension": ".py",
   "mimetype": "text/x-python",
   "name": "python",
   "nbconvert_exporter": "python",
   "pygments_lexer": "ipython3",
   "version": "3.7.6"
  }
 },
 "nbformat": 4,
 "nbformat_minor": 2
}
