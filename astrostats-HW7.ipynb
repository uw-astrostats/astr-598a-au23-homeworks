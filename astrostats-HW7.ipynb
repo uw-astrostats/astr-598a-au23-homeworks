{
 "cells": [
  {
   "cell_type": "markdown",
   "metadata": {},
   "source": [
    "# Homework 7\n",
    "### Astrostatistics, University of Washington\n",
    "\n",
    "\n",
    "## Problem\n",
    "\n",
    "Quoting from [Sesar et al. (2017)](https://iopscience.iop.org/article/10.3847/1538-3881/aa661b):\n",
    "\n",
    "> RR Lyrae stars are old ($\\mathrm{age}\\gt 10$ Gyr), metal-poor ($[\\mathrm{Fe}/{\\rm{H}}]\\ \\lt \\ -0.5$ dex), pulsating horizontal branch stars with periodically variable light curves (periods ranging from 0.2 to 0.9 days; Smith 2004). They are bright stars (${M}_{{\\rm{V}}}=0.6\\pm 0.1$ mag) with distinct light curves, which makes them easy to identify with time-domain imaging surveys, even to large distances (5–120 kpc for surveys with a $14\\lt V\\lt 21$ magnitude range; e.g., Sesar et al. 2010). These properties, and the fact that almost every Milky Way dwarf satellite galaxy has at least one RR Lyrae star (including the faintest one, Segue 1; Simon et al. 2011), open up the exciting possibility of locating very-low-luminosity Milky Way dwarf satellites by using distant RR Lyrae stars, as first proposed by Sesar et al. (2014; also see Baker & Willman 2015).\n",
    "\n",
    "The file `data/rrlyra.dataset.txt` contains observations of a single RRLyrae, found in a dwarf galaxy, over approximately a 3-month period, with the first column being the time (in days), and the second column being the $i$-band magnitude, $m_i$.\n",
    "\n",
    "* Compute the average apparent magnitude of the RR Lyrae, $\\bar{m_i}$\n",
    "* Find the most likely period $P$ of the RR Lyrae, using a Lomb-Scargle periodogram.\n",
    "* RR-Lyrae observe a period-luminosity relation in the $i$ band:\n",
    "\n",
    "  $$ M_i = -1.77 \\log_{10} \\frac{P}{0.6\\,\\mathrm{days}} + 0.46 $$\n",
    "  \n",
    "  Use this relation, and the estimated period $P$, to estimate the absolute magnitude $M_i$ of this RR Lyra.\n",
    "* Using the RR Lyra's absolute magnitude $M_i$, and the average apparent magnitude $\\bar{m_i}$, estimate the distance to the dwarf galaxy where this star resides."
   ]
  },
  {
   "cell_type": "markdown",
   "metadata": {},
   "source": [
    "The data:"
   ]
  },
  {
   "cell_type": "code",
   "execution_count": 1,
   "metadata": {
    "scrolled": true
   },
   "outputs": [
    {
     "data": {
      "image/png": "[encoded data removed]",
      "text/plain": [
       "<Figure size 864x864 with 1 Axes>"
      ]
     },
     "metadata": {
      "needs_background": "light"
     },
     "output_type": "display_data"
    }
   ],
   "source": [
    "%matplotlib inline\n",
    "\n",
    "import numpy as np\n",
    "from matplotlib import pyplot as plt\n",
    "\n",
    "# read data\n",
    "data = np.loadtxt('data/rrlyra.dataset.txt', unpack=True)\n",
    "t, y_obs, sigma_y = data\n",
    "\n",
    "# plot data\n",
    "fig = plt.figure(figsize=(12, 12))\n",
    "ax = fig.add_axes([0.5, 0.7, 0.45, 0.25])\n",
    "ax.errorbar(t, y_obs, sigma_y, fmt='.', lw=1, c='k')\n",
    "ax.set_xlabel(r'$t$ (days)')\n",
    "ax.set_ylabel(r'$m_i$ (mag)')\n",
    "ax.invert_yaxis()"
   ]
  },
  {
   "cell_type": "markdown",
   "metadata": {},
   "source": [
    "## Solution"
   ]
  },
  {
   "cell_type": "code",
   "execution_count": 2,
   "metadata": {},
   "outputs": [],
   "source": [
    "# To remain consistent with the textbook, we'll use some functions that have \n",
    "# been deprecated in recent versions of astroML. This code silences the\n",
    "# distracting deprecation warnings related to these.\n",
    "\n",
    "import warnings\n",
    "from astroML.utils.exceptions import AstroMLDeprecationWarning\n",
    "warnings.filterwarnings(\"ignore\", category=AstroMLDeprecationWarning)"
   ]
  },
  {
   "cell_type": "code",
   "execution_count": 3,
   "metadata": {},
   "outputs": [],
   "source": [
    "... your code here ..."
   ]
  }
 ],
 "metadata": {
  "kernelspec": {
   "display_name": "Python 3",
   "language": "python",
   "name": "python3"
  },
  "language_info": {
   "codemirror_mode": {
    "name": "ipython",
    "version": 3
   },
   "file_extension": ".py",
   "mimetype": "text/x-python",
   "name": "python",
   "nbconvert_exporter": "python",
   "pygments_lexer": "ipython3",
   "version": "3.7.6"
  }
 },
 "nbformat": 4,
 "nbformat_minor": 4
}
